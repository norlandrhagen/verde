{
  "cells": [
    {
      "cell_type": "code",
      "execution_count": null,
      "metadata": {
        "collapsed": false
      },
      "outputs": [],
      "source": [
        "%matplotlib inline"
      ]
    },
    {
      "cell_type": "markdown",
      "metadata": {},
      "source": [
        "\n\n# Grid Coordinates\n\nCreating the coordinates for regular grids in Verde is done using the \n:func:`verde.grid_coordinates` function. It creates a set of regularly spaced points in \nboth the west-east and south-north directions, i.e. a two-dimensional spatial grid. These \npoints are then used by the Verde gridders to interpolate between data points. As such, all \n`.grid` methods (like :meth:`verde.Spline.grid`) take as input the configuration parameters \nfor :func:`verde.grid_coordinates`. The grid can be specified either by the number of points \nin each dimension (the shape) or by the grid node spacing.\n"
      ]
    },
    {
      "cell_type": "code",
      "execution_count": null,
      "metadata": {
        "collapsed": false
      },
      "outputs": [],
      "source": [
        "import numpy as np\nimport matplotlib.pyplot as plt\nimport verde as vd\nfrom matplotlib.patches import Rectangle"
      ]
    },
    {
      "cell_type": "markdown",
      "metadata": {},
      "source": [
        "First let's create a region that is 1000 units west-east and 1000 units south-north,\nand we will set an initial spacing to 100 units.\n\n"
      ]
    },
    {
      "cell_type": "code",
      "execution_count": null,
      "metadata": {
        "collapsed": false
      },
      "outputs": [],
      "source": [
        "spacing = 100\nwest, east, south, north = 0, 1000, 0, 1000\nregion = (west, east, south, north)\n\n# create the grid coordinates\neasting, northing = vd.grid_coordinates(region=region, spacing=spacing)"
      ]
    },
    {
      "cell_type": "markdown",
      "metadata": {},
      "source": [
        "We can check the dimensions of the grid coordinates. The region is 1000 units and the\nspacing is 100 units, so the shape of the segments is 10x10. However, the number of\ngrid nodes in this case is one more than the number of segments. So our grid\ncoordinates have a shape of 11x11.\n\n"
      ]
    },
    {
      "cell_type": "code",
      "execution_count": null,
      "metadata": {
        "collapsed": false
      },
      "outputs": [],
      "source": [
        "print(easting.shape, northing.shape)"
      ]
    },
    {
      "cell_type": "markdown",
      "metadata": {},
      "source": [
        "Let's define two functions to visualize the region bounds and grid points\n\n"
      ]
    },
    {
      "cell_type": "code",
      "execution_count": null,
      "metadata": {
        "collapsed": false
      },
      "outputs": [],
      "source": [
        "def plot_region(ax, region):\n    \"Plot the region as a solid line.\"\n    west, east, south, north = region\n    ax.add_patch(\n        plt.Rectangle((west, south), east, north, fill=None, label=\"Region Bounds\")\n    )\n\n\ndef plot_grid(ax, coordinates, linestyles=\"dotted\", region=None, pad=50, **kwargs):\n    \"Plot the grid coordinates as dots and lines.\"\n    data_region = vd.get_region(coordinates)\n    ax.vlines(\n        coordinates[0][0],\n        ymin=data_region[2],\n        ymax=data_region[3],\n        linestyles=linestyles,\n        zorder=0,\n    )\n    ax.hlines(\n        coordinates[1][:, 1],\n        xmin=data_region[0],\n        xmax=data_region[1],\n        linestyles=linestyles,\n        zorder=0,\n    )\n    ax.scatter(*coordinates, **kwargs)\n    if pad:\n        padded = vd.pad_region(region, pad=pad)\n        plt.xlim(padded[:2])\n        plt.ylim(padded[2:])"
      ]
    },
    {
      "cell_type": "markdown",
      "metadata": {},
      "source": [
        "Visualize our region and grid coordinates using our functions\n\n"
      ]
    },
    {
      "cell_type": "code",
      "execution_count": null,
      "metadata": {
        "collapsed": false
      },
      "outputs": [],
      "source": [
        "plt.figure(figsize=(6, 6))\nax = plt.subplot(111)\nplot_region(ax=ax, region=region)\nplot_grid(\n    ax=ax,\n    coordinates=(easting, northing),\n    region=region,\n    label=\"Square Region Grid Nodes\",\n    marker=\".\",\n    color=\"black\",\n    s=100,\n)\n\nplt.xlabel(\"Easting\")\nplt.ylabel(\"Northing\")\nplt.legend(loc=\"upper center\", bbox_to_anchor=(0.5, 1.15))\nplt.show()"
      ]
    },
    {
      "cell_type": "markdown",
      "metadata": {},
      "source": [
        "## Adjusting region boundaries when creating the grid coordinates\n\nNow let's change our spacing to 300 units. Because the range of the west-east and\nsouth-north boundaries are not multiples of 300, we must choose to change either:\n\n- the boundaries of the region in order to fit the spacing, or\n- the spacing in order to fit the region boundaries.\n\nWe could tell :func:`verde.grid_coordinates` to adjust the region boundaries by\npassing ``adjust=\"region\"``.\n\n"
      ]
    },
    {
      "cell_type": "code",
      "execution_count": null,
      "metadata": {
        "collapsed": false
      },
      "outputs": [],
      "source": [
        "spacing = 300\nregion_easting, region_northing = vd.grid_coordinates(\n    region=region, spacing=spacing, adjust=\"region\"\n)\nprint(region_easting.shape, region_northing.shape)"
      ]
    },
    {
      "cell_type": "markdown",
      "metadata": {},
      "source": [
        "With the spacing set at 300 units and a 4 by 4 grid of regular dimensions,\n:func:`verde.grid_coordinates` calculates the spatial location of each\ngrid point and adjusts the region so that the maximum northing and maximum\neasting values are divisible by the spacing. In this example, both the  easting and\nnorthing have 3 segments (4 nodes) that are each 300 units long, meaning the easting\nand northing span from 0 to 900. Both dimensions are divisible\nby 300.\n\n"
      ]
    },
    {
      "cell_type": "code",
      "execution_count": null,
      "metadata": {
        "collapsed": false
      },
      "outputs": [],
      "source": [
        "print(region_easting)\nprint(region_northing)"
      ]
    },
    {
      "cell_type": "markdown",
      "metadata": {},
      "source": [
        "By default, if ``adjust`` is not assigned to ``\"region\"`` or ``\"spacing\"``,\nthen :func:`verde.grid_coordinates` will adjust the spacing. With the adjust\nparameter set to ``spacing`` :func:`verde.grid_coordinates` creates grid nodes\nin a similar manner as when it adjusts the region. However, it doesn't readjust\nthe region so that it is divisble by the spacing before creating the grid.\nThis means the grid will have the same number of grid points no matter if\nthe adjust parameter is set to ``region`` or ``spacing``.\n\n"
      ]
    },
    {
      "cell_type": "markdown",
      "metadata": {},
      "source": [
        "## Adjusting spacing when creating the grid\n\nNow let's adjust the spacing of the grid points by passing ``adjust=\"spacing\"``\nto :func:`verde.grid_coordinates`.\n\n"
      ]
    },
    {
      "cell_type": "code",
      "execution_count": null,
      "metadata": {
        "collapsed": false
      },
      "outputs": [],
      "source": [
        "spacing_easting, spacing_northing = vd.grid_coordinates(\n    region=region, spacing=spacing, adjust=\"spacing\"\n)\nprint(spacing_easting.shape, spacing_northing.shape)"
      ]
    },
    {
      "cell_type": "markdown",
      "metadata": {},
      "source": [
        "However the regular spacing between the grid points is no longer 300 units.\n\n"
      ]
    },
    {
      "cell_type": "code",
      "execution_count": null,
      "metadata": {
        "collapsed": false
      },
      "outputs": [],
      "source": [
        "print(spacing_easting)\nprint(spacing_northing)"
      ]
    },
    {
      "cell_type": "markdown",
      "metadata": {},
      "source": [
        "## Visualize the different adjustments\n\nLet's visualize the difference between the original region bounds, the\nadjusted region grid nodes, and the adjusted spacing grid nodes. Note the\nadjusted spacing grid nodes keep the original region, while the adjusted\nregion grid nodes on the north and east side of the region have moved.\n\n"
      ]
    },
    {
      "cell_type": "code",
      "execution_count": null,
      "metadata": {
        "collapsed": false
      },
      "outputs": [],
      "source": [
        "plt.figure(figsize=(6, 6))\nax = plt.subplot(111)\nplot_region(ax=ax, region=region)\nplot_grid(\n    ax=ax,\n    coordinates=(region_easting, region_northing),\n    region=region,\n    label=\"Adjusted Region Grid Nodes\",\n    marker=\">\",\n    color=\"blue\",\n    alpha=0.75,\n    s=100,\n)\nplot_grid(\n    ax=ax,\n    coordinates=(spacing_easting, spacing_northing),\n    region=region,\n    label=\"Adjusted Spacing Grid Nodes\",\n    marker=\">\",\n    color=\"orange\",\n    alpha=0.75,\n    s=100,\n)\nplt.xlabel(\"Easting\")\nplt.ylabel(\"Northing\")\nplt.legend(loc=\"upper center\", bbox_to_anchor=(0.5, 1.18))\nplt.show()"
      ]
    },
    {
      "cell_type": "markdown",
      "metadata": {},
      "source": [
        "## Pixel Registration\n\nPixel registration locates the grid points in the middle of the grid segments\nrather than in the corner of each grid node.\n\nFirst, let's take our 1000x1000 region and use the 100 unit spacing from the first\nexample and set the ``pixel_register`` parameter to ``True``. Without pixel\nregistration our grid should have dimensions of 11x11. With pixel registration we\nexpect the dimensions of the grid to be the dimensions of the non-registered grid\nminus one, or equal to the number of segments between the grid points in the\nnon-registered grid (10x10).\n\n"
      ]
    },
    {
      "cell_type": "code",
      "execution_count": null,
      "metadata": {
        "collapsed": false
      },
      "outputs": [],
      "source": [
        "spacing = 100\npixel_easting, pixel_northing = vd.grid_coordinates(\n    region=region, spacing=spacing, pixel_register=True\n)\nprint(pixel_easting.shape, pixel_northing.shape)"
      ]
    },
    {
      "cell_type": "markdown",
      "metadata": {},
      "source": [
        "And we can check the coordinates for the grid points with pixel registration.\n\n"
      ]
    },
    {
      "cell_type": "code",
      "execution_count": null,
      "metadata": {
        "collapsed": false
      },
      "outputs": [],
      "source": [
        "print(pixel_easting)\nprint(pixel_northing)"
      ]
    },
    {
      "cell_type": "markdown",
      "metadata": {},
      "source": [
        "If we set ``pixel_register`` to ``False`` the function will return the grid\ncoordinates of the nodes instead of pixel centers, resulting in an extra point in each direction.\n\n"
      ]
    },
    {
      "cell_type": "code",
      "execution_count": null,
      "metadata": {
        "collapsed": false
      },
      "outputs": [],
      "source": [
        "easting, northing = vd.grid_coordinates(\n    region=region, spacing=spacing, pixel_register=False\n)\nprint(easting.shape, northing.shape)"
      ]
    },
    {
      "cell_type": "markdown",
      "metadata": {},
      "source": [
        "Again we can check the coordinates for grid points with spacing adjustment.\n\n"
      ]
    },
    {
      "cell_type": "code",
      "execution_count": null,
      "metadata": {
        "collapsed": false
      },
      "outputs": [],
      "source": [
        "print(easting)\nprint(northing)"
      ]
    },
    {
      "cell_type": "markdown",
      "metadata": {},
      "source": [
        "Lastly, we can visualize the pixel-registered grid points to see where they fall\nwithin the original region bounds.\n\n"
      ]
    },
    {
      "cell_type": "code",
      "execution_count": null,
      "metadata": {
        "collapsed": false
      },
      "outputs": [],
      "source": [
        "plt.figure(figsize=(6, 6))\nax = plt.subplot(111)\nplot_region(ax=ax, region=region)\nplot_grid(\n    ax=ax,\n    coordinates=(pixel_easting, pixel_northing),\n    region=region,\n    label=\"Pixel Registered Grid Nodes\",\n    marker=\">\",\n    color=\"blue\",\n    alpha=0.75,\n    s=100,\n)\nplot_grid(\n    ax=ax,\n    coordinates=(easting, northing),\n    region=region,\n    label=\"Regular Registered Grid Nodes\",\n    marker=\">\",\n    color=\"orange\",\n    alpha=0.75,\n    s=100,\n)\n\nplt.xlabel(\"Easting\")\nplt.ylabel(\"Northing\")\nplt.legend(loc=\"upper center\", bbox_to_anchor=(0.5, 1.18))\nplt.show()"
      ]
    },
    {
      "cell_type": "markdown",
      "metadata": {},
      "source": [
        "## Extra Coordinates\n\nIn some cases, you might need an additional coordinate such as a height or a time\nthat is associated with your coordinate grid. The ``extra_coords`` parameter\nin :func:`verde.grid_coordinates` creates an extra coordinate array that is the same\nshape as the coordinate grid, but contains a constant value. For example, let's\nadd a constant height of 1000 units and time of 1 to our coordinate grid.\n\n"
      ]
    },
    {
      "cell_type": "code",
      "execution_count": null,
      "metadata": {
        "collapsed": false
      },
      "outputs": [],
      "source": [
        "easting, northing, height, time = vd.grid_coordinates(\n    region=region, spacing=spacing, extra_coords=[1000, 1]\n)\n\nprint(easting.shape, northing.shape, height.shape, time.shape)"
      ]
    },
    {
      "cell_type": "markdown",
      "metadata": {},
      "source": [
        "And we can print the height array to verify that it is correct\n\n"
      ]
    },
    {
      "cell_type": "code",
      "execution_count": null,
      "metadata": {
        "collapsed": false
      },
      "outputs": [],
      "source": [
        "print(height)"
      ]
    },
    {
      "cell_type": "markdown",
      "metadata": {},
      "source": [
        "And we can print the time array as well\n\n"
      ]
    },
    {
      "cell_type": "code",
      "execution_count": null,
      "metadata": {
        "collapsed": false
      },
      "outputs": [],
      "source": [
        "print(time)"
      ]
    }
  ],
  "metadata": {
    "kernelspec": {
      "display_name": "Python 3",
      "language": "python",
      "name": "python3"
    },
    "language_info": {
      "codemirror_mode": {
        "name": "ipython",
        "version": 3
      },
      "file_extension": ".py",
      "mimetype": "text/x-python",
      "name": "python",
      "nbconvert_exporter": "python",
      "pygments_lexer": "ipython3",
      "version": "3.8.12"
    }
  },
  "nbformat": 4,
  "nbformat_minor": 0
}